{
  "nbformat": 4,
  "nbformat_minor": 0,
  "metadata": {
    "colab": {
      "provenance": [],
      "authorship_tag": "ABX9TyN5JfRR26GJAaPc2hptew5D",
      "include_colab_link": true
    },
    "kernelspec": {
      "name": "python3",
      "display_name": "Python 3"
    },
    "language_info": {
      "name": "python"
    }
  },
  "cells": [
    {
      "cell_type": "markdown",
      "metadata": {
        "id": "view-in-github",
        "colab_type": "text"
      },
      "source": [
        "<a href=\"https://colab.research.google.com/github/maxhormazabal/depencendy_parsing/blob/main/P2_Models_NLU.ipynb\" target=\"_parent\"><img src=\"https://colab.research.google.com/assets/colab-badge.svg\" alt=\"Open In Colab\"/></a>"
      ]
    },
    {
      "cell_type": "markdown",
      "source": [
        "# Modelos"
      ],
      "metadata": {
        "id": "51fdZpYdU5As"
      }
    },
    {
      "cell_type": "code",
      "source": [
        "# Getting access to Google Drive files\n",
        "from google.colab import drive\n",
        "drive.mount('/content/drive')"
      ],
      "metadata": {
        "colab": {
          "base_uri": "https://localhost:8080/"
        },
        "id": "D9aC8Pk9W2I6",
        "outputId": "28a7d997-59ee-405f-d46e-82314b745617"
      },
      "execution_count": null,
      "outputs": [
        {
          "output_type": "stream",
          "name": "stdout",
          "text": [
            "Drive already mounted at /content/drive; to attempt to forcibly remount, call drive.mount(\"/content/drive\", force_remount=True).\n"
          ]
        }
      ]
    },
    {
      "cell_type": "code",
      "source": [
        "import os\n",
        "os.chdir(\"/content/drive/MyDrive/MASTER\")\n",
        "from nlu_model_utils import *\n",
        "import tensorflow as tf\n",
        "from keras import Input, Model\n",
        "from keras.layers import Dense\n",
        "import pandas as pd\n",
        "import numpy as np\n",
        "import math"
      ],
      "metadata": {
        "id": "HeS3nbOHW6uq"
      },
      "execution_count": null,
      "outputs": []
    },
    {
      "cell_type": "code",
      "source": [
        "stack_len = 2\n",
        "buffer_len = 3\n",
        "\n",
        "path = \"nlu_data/\"+str(stack_len)+\"stack\"+str(buffer_len)+\"buffer\"\n",
        "\n",
        "(x_train_stack,x_train_buffer,x_train_stack_upos,x_train_buffer_upos,action_train,deprel_train) = getDataSource('train',folder=path)\n",
        "(x_test_stack,x_test_buffer,x_test_stack_upos,x_test_buffer_upos,action_test,deprel_test) = getDataSource('test',folder=path)\n",
        "(x_val_stack,x_val_buffer,x_val_stack_upos,x_val_buffer_upos,action_val,deprel_val) = getDataSource('val',folder=path)"
      ],
      "metadata": {
        "id": "agkt23LjUW_L"
      },
      "execution_count": null,
      "outputs": []
    },
    {
      "cell_type": "code",
      "source": [
        "action_shape = action_train[0].shape[0]\n",
        "deprel_shape = deprel_train[0].shape[0]\n",
        "\n",
        "input1 = tf.keras.layers.Input(shape=(stack_len,),name = 'Stack_Input')\n",
        "input2 = tf.keras.layers.Input(shape=(buffer_len,),name = 'Buffer_Input')\n",
        "merged = tf.keras.layers.Concatenate(axis=1,name = 'Concat_Layer')([input1, input2])\n",
        "dense1 = tf.keras.layers.Dense(3, input_dim=2, activation='sigmoid', use_bias=True,name = 'Dense_Layer')(merged)\n",
        "output1 = tf.keras.layers.Dense(action_shape, activation='softmax', use_bias=True,name = 'Action_Output')(dense1)\n",
        "output2 = tf.keras.layers.Dense(deprel_shape, activation='softmax', use_bias=True,name = 'Deprel_Output')(dense1)\n",
        "model = tf.keras.Model(inputs=[input1,input2],outputs=[output1,output2])\n",
        "\n",
        "opt = tf.keras.optimizers.Adam(learning_rate=0.01) #default 0.001\n",
        "model.compile(loss='categorical_crossentropy',optimizer=opt,metrics=['accuracy'])\n",
        "print(model.summary())\n",
        "\n",
        "model.fit([x_train_stack,x_train_buffer],[action_train, deprel_train], epochs=10, batch_size=100)"
      ],
      "metadata": {
        "id": "5hq6vHSk7Sug",
        "colab": {
          "base_uri": "https://localhost:8080/"
        },
        "outputId": "294efcf0-e92e-44ed-d3df-bfd4a7a026e1"
      },
      "execution_count": null,
      "outputs": [
        {
          "output_type": "stream",
          "name": "stdout",
          "text": [
            "Model: \"model_5\"\n",
            "__________________________________________________________________________________________________\n",
            " Layer (type)                   Output Shape         Param #     Connected to                     \n",
            "==================================================================================================\n",
            " Stack_Input (InputLayer)       [(None, 2)]          0           []                               \n",
            "                                                                                                  \n",
            " Buffer_Input (InputLayer)      [(None, 3)]          0           []                               \n",
            "                                                                                                  \n",
            " Concat_Layer (Concatenate)     (None, 5)            0           ['Stack_Input[0][0]',            \n",
            "                                                                  'Buffer_Input[0][0]']           \n",
            "                                                                                                  \n",
            " Dense_Layer (Dense)            (None, 3)            18          ['Concat_Layer[0][0]']           \n",
            "                                                                                                  \n",
            " Action_Output (Dense)          (None, 6)            24          ['Dense_Layer[0][0]']            \n",
            "                                                                                                  \n",
            " Deprel_Output (Dense)          (None, 41)           164         ['Dense_Layer[0][0]']            \n",
            "                                                                                                  \n",
            "==================================================================================================\n",
            "Total params: 206\n",
            "Trainable params: 206\n",
            "Non-trainable params: 0\n",
            "__________________________________________________________________________________________________\n",
            "None\n",
            "Epoch 1/10\n",
            "888/888 [==============================] - 3s 2ms/step - loss: 2.5891 - Action_Output_loss: 1.1475 - Deprel_Output_loss: 1.4415 - Action_Output_accuracy: 0.5276 - Deprel_Output_accuracy: 0.7160\n",
            "Epoch 2/10\n",
            "888/888 [==============================] - 2s 2ms/step - loss: 2.0721 - Action_Output_loss: 0.8276 - Deprel_Output_loss: 1.2446 - Action_Output_accuracy: 0.6612 - Deprel_Output_accuracy: 0.7233\n",
            "Epoch 3/10\n",
            "888/888 [==============================] - 2s 2ms/step - loss: 2.0306 - Action_Output_loss: 0.7938 - Deprel_Output_loss: 1.2368 - Action_Output_accuracy: 0.6644 - Deprel_Output_accuracy: 0.7233\n",
            "Epoch 4/10\n",
            "888/888 [==============================] - 2s 3ms/step - loss: 2.0235 - Action_Output_loss: 0.7844 - Deprel_Output_loss: 1.2391 - Action_Output_accuracy: 0.6715 - Deprel_Output_accuracy: 0.7232\n",
            "Epoch 5/10\n",
            "888/888 [==============================] - 3s 4ms/step - loss: 2.0032 - Action_Output_loss: 0.7652 - Deprel_Output_loss: 1.2380 - Action_Output_accuracy: 0.6825 - Deprel_Output_accuracy: 0.7233\n",
            "Epoch 6/10\n",
            "888/888 [==============================] - 3s 3ms/step - loss: 1.9762 - Action_Output_loss: 0.7394 - Deprel_Output_loss: 1.2368 - Action_Output_accuracy: 0.6830 - Deprel_Output_accuracy: 0.7233\n",
            "Epoch 7/10\n",
            "888/888 [==============================] - 4s 4ms/step - loss: 1.9926 - Action_Output_loss: 0.7579 - Deprel_Output_loss: 1.2347 - Action_Output_accuracy: 0.7061 - Deprel_Output_accuracy: 0.7233\n",
            "Epoch 8/10\n",
            "888/888 [==============================] - 3s 4ms/step - loss: 1.9700 - Action_Output_loss: 0.7385 - Deprel_Output_loss: 1.2316 - Action_Output_accuracy: 0.7019 - Deprel_Output_accuracy: 0.7233\n",
            "Epoch 9/10\n",
            "888/888 [==============================] - 3s 3ms/step - loss: 1.9728 - Action_Output_loss: 0.7413 - Deprel_Output_loss: 1.2316 - Action_Output_accuracy: 0.6930 - Deprel_Output_accuracy: 0.7233\n",
            "Epoch 10/10\n",
            "888/888 [==============================] - 2s 2ms/step - loss: 1.9543 - Action_Output_loss: 0.7265 - Deprel_Output_loss: 1.2278 - Action_Output_accuracy: 0.7091 - Deprel_Output_accuracy: 0.7233\n"
          ]
        },
        {
          "output_type": "execute_result",
          "data": {
            "text/plain": [
              "<keras.callbacks.History at 0x7f8ef0a569d0>"
            ]
          },
          "metadata": {},
          "execution_count": 16
        }
      ]
    },
    {
      "cell_type": "code",
      "source": [
        "print(x_test_stack.shape,x_test_buffer.shape,action_test.shape,deprel_test.shape)"
      ],
      "metadata": {
        "colab": {
          "base_uri": "https://localhost:8080/"
        },
        "id": "nKKQ8JBygb3E",
        "outputId": "f49bb8a6-207d-40ef-ac7e-81f1184f7ef1"
      },
      "execution_count": null,
      "outputs": [
        {
          "output_type": "stream",
          "name": "stdout",
          "text": [
            "(6969, 2) (6969, 3) (6969, 6) (6969, 34)\n"
          ]
        }
      ]
    },
    {
      "cell_type": "code",
      "source": [
        "print(x_test_stack[:1],x_test_buffer[:1],np.argmax(action_train[:1]),np.argmax(deprel_train[:1]))"
      ],
      "metadata": {
        "colab": {
          "base_uri": "https://localhost:8080/"
        },
        "id": "XnSTIhL3kJeH",
        "outputId": "ee4abc7a-d2f5-43d0-aab5-40cb31e04b56"
      },
      "execution_count": null,
      "outputs": [
        {
          "output_type": "stream",
          "name": "stdout",
          "text": [
            "[[   0. 3157.]] [[2111.   14. 2112.]] 3 0\n"
          ]
        }
      ]
    },
    {
      "cell_type": "code",
      "source": [
        "x_test_stack[:1]"
      ],
      "metadata": {
        "colab": {
          "base_uri": "https://localhost:8080/"
        },
        "id": "8MwGz8jZhXEX",
        "outputId": "a0c7eb03-7212-424e-8f59-15fb5d537cba"
      },
      "execution_count": null,
      "outputs": [
        {
          "output_type": "execute_result",
          "data": {
            "text/plain": [
              "array([[   0., 3157.]], dtype=float32)"
            ]
          },
          "metadata": {},
          "execution_count": 19
        }
      ]
    },
    {
      "cell_type": "code",
      "source": [
        "# print(\"Evaluate model on test data\")\n",
        "# results = model.evaluate([x_test_stack,x_test_buffer],[action_test,deprel_test], batch_size=128)\n",
        "# print(\"test loss, test acc:\", results)\n",
        "\n",
        "# Generate a prediction using model.predict() \n",
        "# and calculate it's shape:\n",
        "print(\"Generate a prediction\")\n",
        "prediction = model.predict([x_test_stack[:1],x_test_buffer[:1]])\n",
        "# print(\"prediction shape:\", prediction.shape)"
      ],
      "metadata": {
        "colab": {
          "base_uri": "https://localhost:8080/"
        },
        "id": "sQb34Ri7f63c",
        "outputId": "c011b7dd-1d82-43f0-8373-bd5329990727"
      },
      "execution_count": null,
      "outputs": [
        {
          "output_type": "stream",
          "name": "stdout",
          "text": [
            "Generate a prediction\n",
            "1/1 [==============================] - 0s 25ms/step\n"
          ]
        }
      ]
    },
    {
      "cell_type": "code",
      "source": [
        "number2action[np.argmax(prediction[0][0])]\n",
        "number2deprel_test[np.argmax(prediction[1][0])]"
      ],
      "metadata": {
        "colab": {
          "base_uri": "https://localhost:8080/",
          "height": 35
        },
        "id": "aVk-mGggke5v",
        "outputId": "2cc2bebc-8fa5-4b4f-9064-f2632eb89397"
      },
      "execution_count": null,
      "outputs": [
        {
          "output_type": "execute_result",
          "data": {
            "text/plain": [
              "'None'"
            ],
            "application/vnd.google.colaboratory.intrinsic+json": {
              "type": "string"
            }
          },
          "metadata": {},
          "execution_count": 39
        }
      ]
    },
    {
      "cell_type": "code",
      "source": [
        "np.argmax(prediction[1][0])"
      ],
      "metadata": {
        "colab": {
          "base_uri": "https://localhost:8080/"
        },
        "id": "VFujm_eOiiRf",
        "outputId": "34579ea4-27df-4ee6-82a6-de9186cb1bc8"
      },
      "execution_count": null,
      "outputs": [
        {
          "output_type": "execute_result",
          "data": {
            "text/plain": [
              "0"
            ]
          },
          "metadata": {},
          "execution_count": 29
        }
      ]
    },
    {
      "cell_type": "code",
      "source": [
        "print(\"Los input: \",x_test_stack[:1],x_test_buffer[:1],\n",
        "      \"Entregan como resultado: \",number2action[np.argmax(prediction[0][0])],number2deprel_test[np.argmax(prediction[1][0])])"
      ],
      "metadata": {
        "colab": {
          "base_uri": "https://localhost:8080/"
        },
        "id": "3wZHqdVfkpil",
        "outputId": "fcddf95b-ac54-4b39-d565-6db2a94b55ab"
      },
      "execution_count": null,
      "outputs": [
        {
          "output_type": "stream",
          "name": "stdout",
          "text": [
            "Los input:  [[   0. 3157.]] [[2111.   14. 2112.]] Entregan como resultado:  Shift None\n"
          ]
        }
      ]
    },
    {
      "cell_type": "code",
      "source": [
        "number2action = {\n",
        "  1: 'Right Arc', \n",
        "  2: 'Left Arc', \n",
        "  3: 'Shift', \n",
        "  4: 'Reduce', \n",
        "  5: 'Done'\n",
        "}\n",
        "\n",
        "number2deprel_test = {\n",
        "  0: 'None',\n",
        "  1: 'acl',\n",
        "  2: 'acl:relcl',\n",
        "  3: 'advcl',\n",
        "  4: 'advmod',\n",
        "  5: 'amod',\n",
        "  6: 'appos',\n",
        "  7: 'aux',\n",
        "  8: 'aux:pass',\n",
        "  9: 'case',\n",
        "  10: 'cc',\n",
        "  11: 'ccomp',\n",
        "  12: 'compound',\n",
        "  13: 'compound:prt',\n",
        "  14: 'conj',\n",
        "  15: 'cop',\n",
        "  16: 'det',\n",
        "  17: 'det:predet',\n",
        "  18: 'expl',\n",
        "  19: 'fixed',\n",
        "  20: 'flat',\n",
        "  21: 'flat:foreign',\n",
        "  22: 'iobj',\n",
        "  23: 'mark',\n",
        "  24: 'nmod',\n",
        "  25: 'nmod:poss',\n",
        "  26: 'nsubj',\n",
        "  27: 'nsubj:pass',\n",
        "  28: 'nummod',\n",
        "  29: 'obj',\n",
        "  30: 'obl',\n",
        "  31: 'punct',\n",
        "  32: 'root',\n",
        "  33: 'xcomp'\n",
        "}"
      ],
      "metadata": {
        "id": "U3VjJbbBjiRi"
      },
      "execution_count": null,
      "outputs": []
    },
    {
      "cell_type": "code",
      "source": [
        "stack_len = 4\n",
        "buffer_len = 8\n",
        "\n",
        "path = \"nlu_data/\"+str(stack_len)+\"stack\"+str(buffer_len)+\"buffer\"\n",
        "\n",
        "(x_train_stack,x_train_buffer,x_train_stack_upos,x_train_buffer_upos,action_train,deprel_train) = getDataSource('train',folder=path)\n",
        "(x_test_stack,x_test_buffer,x_test_stack_upos,x_test_buffer_upos,action_test,deprel_test) = getDataSource('test',folder=path)\n",
        "(x_val_stack,x_val_buffer,x_val_stack_upos,x_val_buffer_upos,action_val,deprel_val) = getDataSource('val',folder=path)"
      ],
      "metadata": {
        "id": "zg-SCk2rdWCc"
      },
      "execution_count": null,
      "outputs": []
    },
    {
      "cell_type": "code",
      "source": [
        "action_shape = action_train[0].shape[0]\n",
        "deprel_shape = deprel_train[0].shape[0]\n",
        "\n",
        "input1 = tf.keras.layers.Input(shape=(stack_len,),name = 'Stack_Input')\n",
        "input2 = tf.keras.layers.Input(shape=(buffer_len,),name = 'Buffer_Input')\n",
        "merged = tf.keras.layers.Concatenate(axis=1,name = 'Concat_Layer')([input1, input2])\n",
        "dense1 = tf.keras.layers.Dense(3, input_dim=2, activation='sigmoid', use_bias=True,name = 'Dense_Layer')(merged)\n",
        "output1 = tf.keras.layers.Dense(action_shape, activation='softmax', use_bias=True,name = 'Action_Output')(dense1)\n",
        "output2 = tf.keras.layers.Dense(deprel_shape, activation='softmax', use_bias=True,name = 'Deprel_Output')(dense1)\n",
        "model = tf.keras.Model(inputs=[input1,input2],outputs=[output1,output2])\n",
        "\n",
        "opt = tf.keras.optimizers.Adam(learning_rate=0.01) #default 0.001\n",
        "model.compile(loss='categorical_crossentropy',optimizer=opt,metrics=['accuracy'])\n",
        "print(model.summary())\n",
        "\n",
        "model.fit([x_train_stack,x_train_buffer],[action_train, deprel_train], epochs=10, batch_size=100)"
      ],
      "metadata": {
        "colab": {
          "base_uri": "https://localhost:8080/"
        },
        "id": "-7GYVLOidcIw",
        "outputId": "f6a1f5e7-fef9-4870-92fd-662fbaff29bf"
      },
      "execution_count": null,
      "outputs": [
        {
          "output_type": "stream",
          "name": "stdout",
          "text": [
            "Model: \"model_3\"\n",
            "__________________________________________________________________________________________________\n",
            " Layer (type)                   Output Shape         Param #     Connected to                     \n",
            "==================================================================================================\n",
            " Stack_Input (InputLayer)       [(None, 4)]          0           []                               \n",
            "                                                                                                  \n",
            " Buffer_Input (InputLayer)      [(None, 8)]          0           []                               \n",
            "                                                                                                  \n",
            " Concat_Layer (Concatenate)     (None, 12)           0           ['Stack_Input[0][0]',            \n",
            "                                                                  'Buffer_Input[0][0]']           \n",
            "                                                                                                  \n",
            " Dense_Layer (Dense)            (None, 3)            39          ['Concat_Layer[0][0]']           \n",
            "                                                                                                  \n",
            " Action_Output (Dense)          (None, 6)            24          ['Dense_Layer[0][0]']            \n",
            "                                                                                                  \n",
            " Deprel_Output (Dense)          (None, 41)           164         ['Dense_Layer[0][0]']            \n",
            "                                                                                                  \n",
            "==================================================================================================\n",
            "Total params: 227\n",
            "Trainable params: 227\n",
            "Non-trainable params: 0\n",
            "__________________________________________________________________________________________________\n",
            "None\n",
            "Epoch 1/10\n",
            "888/888 [==============================] - 3s 3ms/step - loss: 2.4621 - Action_Output_loss: 1.0195 - Deprel_Output_loss: 1.4425 - Action_Output_accuracy: 0.6100 - Deprel_Output_accuracy: 0.7183\n",
            "Epoch 2/10\n",
            "888/888 [==============================] - 2s 2ms/step - loss: 2.0688 - Action_Output_loss: 0.7944 - Deprel_Output_loss: 1.2744 - Action_Output_accuracy: 0.6803 - Deprel_Output_accuracy: 0.7233\n",
            "Epoch 3/10\n",
            "888/888 [==============================] - 2s 2ms/step - loss: 2.0308 - Action_Output_loss: 0.7656 - Deprel_Output_loss: 1.2652 - Action_Output_accuracy: 0.6818 - Deprel_Output_accuracy: 0.7233\n",
            "Epoch 4/10\n",
            "888/888 [==============================] - 2s 2ms/step - loss: 2.0274 - Action_Output_loss: 0.7733 - Deprel_Output_loss: 1.2542 - Action_Output_accuracy: 0.6892 - Deprel_Output_accuracy: 0.7233\n",
            "Epoch 5/10\n",
            "888/888 [==============================] - 4s 4ms/step - loss: 2.0208 - Action_Output_loss: 0.7689 - Deprel_Output_loss: 1.2518 - Action_Output_accuracy: 0.7007 - Deprel_Output_accuracy: 0.7233\n",
            "Epoch 6/10\n",
            "888/888 [==============================] - 2s 3ms/step - loss: 2.0117 - Action_Output_loss: 0.7643 - Deprel_Output_loss: 1.2474 - Action_Output_accuracy: 0.7035 - Deprel_Output_accuracy: 0.7233\n",
            "Epoch 7/10\n",
            "888/888 [==============================] - 2s 2ms/step - loss: 2.0149 - Action_Output_loss: 0.7748 - Deprel_Output_loss: 1.2402 - Action_Output_accuracy: 0.7002 - Deprel_Output_accuracy: 0.7233\n",
            "Epoch 8/10\n",
            "888/888 [==============================] - 2s 3ms/step - loss: 2.0069 - Action_Output_loss: 0.7657 - Deprel_Output_loss: 1.2412 - Action_Output_accuracy: 0.6870 - Deprel_Output_accuracy: 0.7233\n",
            "Epoch 9/10\n",
            "888/888 [==============================] - 2s 2ms/step - loss: 2.0034 - Action_Output_loss: 0.7598 - Deprel_Output_loss: 1.2436 - Action_Output_accuracy: 0.7028 - Deprel_Output_accuracy: 0.7233\n",
            "Epoch 10/10\n",
            "888/888 [==============================] - 2s 2ms/step - loss: 1.9831 - Action_Output_loss: 0.7473 - Deprel_Output_loss: 1.2358 - Action_Output_accuracy: 0.7028 - Deprel_Output_accuracy: 0.7233\n"
          ]
        },
        {
          "output_type": "execute_result",
          "data": {
            "text/plain": [
              "<keras.callbacks.History at 0x7f8eff700280>"
            ]
          },
          "metadata": {},
          "execution_count": 13
        }
      ]
    },
    {
      "cell_type": "code",
      "source": [
        "stack_len = 10\n",
        "buffer_len = 15\n",
        "\n",
        "path = \"nlu_data/\"+str(stack_len)+\"stack\"+str(buffer_len)+\"buffer\"\n",
        "\n",
        "(x_train_stack,x_train_buffer,x_train_stack_upos,x_train_buffer_upos,action_train,deprel_train) = getDataSource('train',folder=path)\n",
        "(x_test_stack,x_test_buffer,x_test_stack_upos,x_test_buffer_upos,action_test,deprel_test) = getDataSource('test',folder=path)\n",
        "(x_val_stack,x_val_buffer,x_val_stack_upos,x_val_buffer_upos,action_val,deprel_val) = getDataSource('val',folder=path)"
      ],
      "metadata": {
        "id": "Q5L78naHdhR4"
      },
      "execution_count": null,
      "outputs": []
    },
    {
      "cell_type": "code",
      "source": [
        "action_shape = action_train[0].shape[0]\n",
        "deprel_shape = deprel_train[0].shape[0]\n",
        "\n",
        "input1 = tf.keras.layers.Input(shape=(stack_len,),name = 'Stack_Input')\n",
        "input2 = tf.keras.layers.Input(shape=(buffer_len,),name = 'Buffer_Input')\n",
        "merged = tf.keras.layers.Concatenate(axis=1,name = 'Concat_Layer')([input1, input2])\n",
        "dense1 = tf.keras.layers.Dense(3, input_dim=2, activation='sigmoid', use_bias=True,name = 'Dense_Layer')(merged)\n",
        "output1 = tf.keras.layers.Dense(action_shape, activation='softmax', use_bias=True,name = 'Action_Output')(dense1)\n",
        "output2 = tf.keras.layers.Dense(deprel_shape, activation='softmax', use_bias=True,name = 'Deprel_Output')(dense1)\n",
        "model = tf.keras.Model(inputs=[input1,input2],outputs=[output1,output2])\n",
        "\n",
        "opt = tf.keras.optimizers.Adam(learning_rate=0.01) #default 0.001\n",
        "model.compile(loss='categorical_crossentropy',optimizer=opt,metrics=['accuracy'])\n",
        "print(model.summary())\n",
        "\n",
        "model.fit([x_train_stack,x_train_buffer],[action_train, deprel_train], epochs=10, batch_size=100)"
      ],
      "metadata": {
        "colab": {
          "base_uri": "https://localhost:8080/"
        },
        "id": "Sdl2yPHFdra4",
        "outputId": "62f57105-1602-44ce-b55d-13d5fc2ae6f3"
      },
      "execution_count": null,
      "outputs": [
        {
          "output_type": "stream",
          "name": "stdout",
          "text": [
            "Model: \"model_4\"\n",
            "__________________________________________________________________________________________________\n",
            " Layer (type)                   Output Shape         Param #     Connected to                     \n",
            "==================================================================================================\n",
            " Stack_Input (InputLayer)       [(None, 4)]          0           []                               \n",
            "                                                                                                  \n",
            " Buffer_Input (InputLayer)      [(None, 8)]          0           []                               \n",
            "                                                                                                  \n",
            " Concat_Layer (Concatenate)     (None, 12)           0           ['Stack_Input[0][0]',            \n",
            "                                                                  'Buffer_Input[0][0]']           \n",
            "                                                                                                  \n",
            " Dense_Layer (Dense)            (None, 3)            39          ['Concat_Layer[0][0]']           \n",
            "                                                                                                  \n",
            " Action_Output (Dense)          (None, 6)            24          ['Dense_Layer[0][0]']            \n",
            "                                                                                                  \n",
            " Deprel_Output (Dense)          (None, 41)           164         ['Dense_Layer[0][0]']            \n",
            "                                                                                                  \n",
            "==================================================================================================\n",
            "Total params: 227\n",
            "Trainable params: 227\n",
            "Non-trainable params: 0\n",
            "__________________________________________________________________________________________________\n",
            "None\n",
            "Epoch 1/10\n",
            "888/888 [==============================] - 3s 2ms/step - loss: 2.3756 - Action_Output_loss: 0.8762 - Deprel_Output_loss: 1.4994 - Action_Output_accuracy: 0.6559 - Deprel_Output_accuracy: 0.7170\n",
            "Epoch 2/10\n",
            "888/888 [==============================] - 2s 2ms/step - loss: 2.0699 - Action_Output_loss: 0.7776 - Deprel_Output_loss: 1.2923 - Action_Output_accuracy: 0.6786 - Deprel_Output_accuracy: 0.7233\n",
            "Epoch 3/10\n",
            "888/888 [==============================] - 2s 2ms/step - loss: 2.0087 - Action_Output_loss: 0.7403 - Deprel_Output_loss: 1.2684 - Action_Output_accuracy: 0.6795 - Deprel_Output_accuracy: 0.7233\n",
            "Epoch 4/10\n",
            "888/888 [==============================] - 2s 2ms/step - loss: 1.9780 - Action_Output_loss: 0.7304 - Deprel_Output_loss: 1.2477 - Action_Output_accuracy: 0.6922 - Deprel_Output_accuracy: 0.7233\n",
            "Epoch 5/10\n",
            "888/888 [==============================] - 2s 2ms/step - loss: 1.9556 - Action_Output_loss: 0.7144 - Deprel_Output_loss: 1.2412 - Action_Output_accuracy: 0.6912 - Deprel_Output_accuracy: 0.7233\n",
            "Epoch 6/10\n",
            "888/888 [==============================] - 2s 2ms/step - loss: 1.9520 - Action_Output_loss: 0.7126 - Deprel_Output_loss: 1.2393 - Action_Output_accuracy: 0.6968 - Deprel_Output_accuracy: 0.7233\n",
            "Epoch 7/10\n",
            "888/888 [==============================] - 2s 2ms/step - loss: 1.9650 - Action_Output_loss: 0.7193 - Deprel_Output_loss: 1.2457 - Action_Output_accuracy: 0.7003 - Deprel_Output_accuracy: 0.7233\n",
            "Epoch 8/10\n",
            "888/888 [==============================] - 2s 2ms/step - loss: 1.9381 - Action_Output_loss: 0.7219 - Deprel_Output_loss: 1.2162 - Action_Output_accuracy: 0.7070 - Deprel_Output_accuracy: 0.7233\n",
            "Epoch 9/10\n",
            "888/888 [==============================] - 2s 2ms/step - loss: 1.9181 - Action_Output_loss: 0.7087 - Deprel_Output_loss: 1.2094 - Action_Output_accuracy: 0.7026 - Deprel_Output_accuracy: 0.7233\n",
            "Epoch 10/10\n",
            "888/888 [==============================] - 2s 2ms/step - loss: 1.9017 - Action_Output_loss: 0.6995 - Deprel_Output_loss: 1.2022 - Action_Output_accuracy: 0.7092 - Deprel_Output_accuracy: 0.7233\n"
          ]
        },
        {
          "output_type": "execute_result",
          "data": {
            "text/plain": [
              "<keras.callbacks.History at 0x7f8eeef922b0>"
            ]
          },
          "metadata": {},
          "execution_count": 14
        }
      ]
    },
    {
      "cell_type": "code",
      "source": [
        "opt = tf.keras.optimizers.Adam(learning_rate=0.01) #default 0.001\n",
        "model.compile(loss='categorical_crossentropy',optimizer=opt,metrics=['accuracy'])\n",
        "print(model.summary())"
      ],
      "metadata": {
        "colab": {
          "base_uri": "https://localhost:8080/"
        },
        "id": "Zm2RVtd_8Z37",
        "outputId": "7d9c4c58-564c-43cf-9499-b81e43cbe5dd"
      },
      "execution_count": null,
      "outputs": [
        {
          "output_type": "stream",
          "name": "stdout",
          "text": [
            "Model: \"model_5\"\n",
            "__________________________________________________________________________________________________\n",
            " Layer (type)                   Output Shape         Param #     Connected to                     \n",
            "==================================================================================================\n",
            " Stack_Input (InputLayer)       [(None, 2)]          0           []                               \n",
            "                                                                                                  \n",
            " Buffer_Input (InputLayer)      [(None, 3)]          0           []                               \n",
            "                                                                                                  \n",
            " Concat_Layer (Concatenate)     (None, 5)            0           ['Stack_Input[0][0]',            \n",
            "                                                                  'Buffer_Input[0][0]']           \n",
            "                                                                                                  \n",
            " Dense_Layer (Dense)            (None, 3)            18          ['Concat_Layer[0][0]']           \n",
            "                                                                                                  \n",
            " Action_Output (Dense)          (None, 6)            24          ['Dense_Layer[0][0]']            \n",
            "                                                                                                  \n",
            " Deprel_Output (Dense)          (None, 41)           164         ['Dense_Layer[0][0]']            \n",
            "                                                                                                  \n",
            "==================================================================================================\n",
            "Total params: 206\n",
            "Trainable params: 206\n",
            "Non-trainable params: 0\n",
            "__________________________________________________________________________________________________\n",
            "None\n"
          ]
        }
      ]
    },
    {
      "cell_type": "code",
      "source": [
        "model.fit([empty_stack,empty_buffer],[action_train, deprel_train], epochs=10, batch_size=100)"
      ],
      "metadata": {
        "colab": {
          "base_uri": "https://localhost:8080/"
        },
        "id": "iVzf3FcP0s01",
        "outputId": "d75aa572-6244-4222-f53c-885669f9fb53"
      },
      "execution_count": null,
      "outputs": [
        {
          "output_type": "stream",
          "name": "stdout",
          "text": [
            "Epoch 1/10\n",
            "888/888 [==============================] - 3s 2ms/step - loss: 2.5672 - Action_Output_loss: 1.1339 - Deprel_Output_loss: 1.4334 - Action_Output_accuracy: 0.5040 - Deprel_Output_accuracy: 0.7112\n",
            "Epoch 2/10\n",
            "888/888 [==============================] - 2s 2ms/step - loss: 2.0447 - Action_Output_loss: 0.8157 - Deprel_Output_loss: 1.2291 - Action_Output_accuracy: 0.6816 - Deprel_Output_accuracy: 0.7233\n",
            "Epoch 3/10\n",
            "888/888 [==============================] - 2s 2ms/step - loss: 1.9622 - Action_Output_loss: 0.7581 - Deprel_Output_loss: 1.2041 - Action_Output_accuracy: 0.6920 - Deprel_Output_accuracy: 0.7233\n",
            "Epoch 4/10\n",
            "888/888 [==============================] - 2s 2ms/step - loss: 1.9208 - Action_Output_loss: 0.7244 - Deprel_Output_loss: 1.1963 - Action_Output_accuracy: 0.7022 - Deprel_Output_accuracy: 0.7233\n",
            "Epoch 5/10\n",
            "888/888 [==============================] - 2s 2ms/step - loss: 1.8909 - Action_Output_loss: 0.7037 - Deprel_Output_loss: 1.1872 - Action_Output_accuracy: 0.7044 - Deprel_Output_accuracy: 0.7233\n",
            "Epoch 6/10\n",
            "888/888 [==============================] - 2s 2ms/step - loss: 1.8794 - Action_Output_loss: 0.6946 - Deprel_Output_loss: 1.1848 - Action_Output_accuracy: 0.6966 - Deprel_Output_accuracy: 0.7233\n",
            "Epoch 7/10\n",
            "888/888 [==============================] - 2s 2ms/step - loss: 1.8834 - Action_Output_loss: 0.6960 - Deprel_Output_loss: 1.1874 - Action_Output_accuracy: 0.7109 - Deprel_Output_accuracy: 0.7233\n",
            "Epoch 8/10\n",
            "888/888 [==============================] - 2s 2ms/step - loss: 1.8727 - Action_Output_loss: 0.6892 - Deprel_Output_loss: 1.1835 - Action_Output_accuracy: 0.7130 - Deprel_Output_accuracy: 0.7233\n",
            "Epoch 9/10\n",
            "888/888 [==============================] - 2s 2ms/step - loss: 1.8699 - Action_Output_loss: 0.6870 - Deprel_Output_loss: 1.1830 - Action_Output_accuracy: 0.7119 - Deprel_Output_accuracy: 0.7233\n",
            "Epoch 10/10\n",
            "888/888 [==============================] - 2s 2ms/step - loss: 1.9007 - Action_Output_loss: 0.7183 - Deprel_Output_loss: 1.1824 - Action_Output_accuracy: 0.7024 - Deprel_Output_accuracy: 0.7233\n"
          ]
        },
        {
          "output_type": "execute_result",
          "data": {
            "text/plain": [
              "<keras.callbacks.History at 0x7f69c2c30b80>"
            ]
          },
          "metadata": {},
          "execution_count": 61
        }
      ]
    },
    {
      "cell_type": "code",
      "source": [
        "stack_shape = empty_stack.shape[1]\n",
        "buffer_shape = empty_buffer.shape[1]\n",
        "\n",
        "action_shape = action_train[0].shape[0]\n",
        "deprel_shape = deprel_train[0].shape[0]\n",
        "\n",
        "input1 = tf.keras.layers.Input(shape=(stack_shape,),name = 'Stack_Input')\n",
        "input2 = tf.keras.layers.Input(shape=(buffer_shape,),name = 'Buffer_Input')\n",
        "merged = tf.keras.layers.Concatenate(axis=1,name = 'Concat_Layer')([input1, input2])\n",
        "dense1 = tf.keras.layers.Dense(15, input_dim=2, activation='sigmoid', use_bias=True,name = 'Dense_Layer')(merged)\n",
        "dense2 = tf.keras.layers.Dense(30, activation='relu',name = 'Dense_Layer2')(dense1)\n",
        "output1 = tf.keras.layers.Dense(action_shape, activation='softmax', use_bias=True,name = 'Action_Output')(dense2)\n",
        "output2 = tf.keras.layers.Dense(deprel_shape, activation='softmax', use_bias=True,name = 'Deprel_Output')(dense2)\n",
        "model = tf.keras.Model(inputs=[input1,input2],outputs=[output1,output2])\n",
        "\n",
        "opt = tf.keras.optimizers.Adam(learning_rate=0.001) #default 0.001\n",
        "model.compile(loss='categorical_crossentropy',optimizer=opt,metrics=['accuracy'])\n",
        "print(model.summary())\n",
        "\n",
        "model.fit([empty_stack,empty_buffer],[action_train, deprel_train], epochs=10, batch_size=100)"
      ],
      "metadata": {
        "colab": {
          "base_uri": "https://localhost:8080/"
        },
        "id": "J63T7hdJ5vpw",
        "outputId": "87399980-ae39-40c1-e7ef-0940193928f4"
      },
      "execution_count": null,
      "outputs": [
        {
          "output_type": "stream",
          "name": "stdout",
          "text": [
            "Model: \"model_10\"\n",
            "__________________________________________________________________________________________________\n",
            " Layer (type)                   Output Shape         Param #     Connected to                     \n",
            "==================================================================================================\n",
            " Stack_Input (InputLayer)       [(None, 2)]          0           []                               \n",
            "                                                                                                  \n",
            " Buffer_Input (InputLayer)      [(None, 3)]          0           []                               \n",
            "                                                                                                  \n",
            " Concat_Layer (Concatenate)     (None, 5)            0           ['Stack_Input[0][0]',            \n",
            "                                                                  'Buffer_Input[0][0]']           \n",
            "                                                                                                  \n",
            " Dense_Layer (Dense)            (None, 15)           90          ['Concat_Layer[0][0]']           \n",
            "                                                                                                  \n",
            " Dense_Layer2 (Dense)           (None, 30)           480         ['Dense_Layer[0][0]']            \n",
            "                                                                                                  \n",
            " Action_Output (Dense)          (None, 6)            186         ['Dense_Layer2[0][0]']           \n",
            "                                                                                                  \n",
            " Deprel_Output (Dense)          (None, 41)           1271        ['Dense_Layer2[0][0]']           \n",
            "                                                                                                  \n",
            "==================================================================================================\n",
            "Total params: 2,027\n",
            "Trainable params: 2,027\n",
            "Non-trainable params: 0\n",
            "__________________________________________________________________________________________________\n",
            "None\n",
            "Epoch 1/10\n",
            "888/888 [==============================] - 3s 3ms/step - loss: 2.3671 - Action_Output_loss: 0.9202 - Deprel_Output_loss: 1.4470 - Action_Output_accuracy: 0.6348 - Deprel_Output_accuracy: 0.6886\n",
            "Epoch 2/10\n",
            "888/888 [==============================] - 2s 3ms/step - loss: 1.7892 - Action_Output_loss: 0.6542 - Deprel_Output_loss: 1.1350 - Action_Output_accuracy: 0.7222 - Deprel_Output_accuracy: 0.7232\n",
            "Epoch 3/10\n",
            "888/888 [==============================] - 2s 3ms/step - loss: 1.7263 - Action_Output_loss: 0.6147 - Deprel_Output_loss: 1.1116 - Action_Output_accuracy: 0.7294 - Deprel_Output_accuracy: 0.7233\n",
            "Epoch 4/10\n",
            "888/888 [==============================] - 2s 2ms/step - loss: 1.6780 - Action_Output_loss: 0.5907 - Deprel_Output_loss: 1.0873 - Action_Output_accuracy: 0.7356 - Deprel_Output_accuracy: 0.7236\n",
            "Epoch 5/10\n",
            "888/888 [==============================] - 2s 3ms/step - loss: 1.6522 - Action_Output_loss: 0.5774 - Deprel_Output_loss: 1.0748 - Action_Output_accuracy: 0.7374 - Deprel_Output_accuracy: 0.7234\n",
            "Epoch 6/10\n",
            "888/888 [==============================] - 2s 3ms/step - loss: 1.6360 - Action_Output_loss: 0.5694 - Deprel_Output_loss: 1.0666 - Action_Output_accuracy: 0.7412 - Deprel_Output_accuracy: 0.7236\n",
            "Epoch 7/10\n",
            "888/888 [==============================] - 2s 3ms/step - loss: 1.6133 - Action_Output_loss: 0.5528 - Deprel_Output_loss: 1.0605 - Action_Output_accuracy: 0.7462 - Deprel_Output_accuracy: 0.7233\n",
            "Epoch 8/10\n",
            "888/888 [==============================] - 2s 3ms/step - loss: 1.5845 - Action_Output_loss: 0.5273 - Deprel_Output_loss: 1.0572 - Action_Output_accuracy: 0.7501 - Deprel_Output_accuracy: 0.7235\n",
            "Epoch 9/10\n",
            "888/888 [==============================] - 2s 3ms/step - loss: 1.5812 - Action_Output_loss: 0.5254 - Deprel_Output_loss: 1.0559 - Action_Output_accuracy: 0.7538 - Deprel_Output_accuracy: 0.7235\n",
            "Epoch 10/10\n",
            "888/888 [==============================] - 2s 3ms/step - loss: 1.5821 - Action_Output_loss: 0.5320 - Deprel_Output_loss: 1.0500 - Action_Output_accuracy: 0.7552 - Deprel_Output_accuracy: 0.7234\n"
          ]
        },
        {
          "output_type": "execute_result",
          "data": {
            "text/plain": [
              "<keras.callbacks.History at 0x7f69c2139550>"
            ]
          },
          "metadata": {},
          "execution_count": 66
        }
      ]
    },
    {
      "cell_type": "code",
      "source": [
        "stack_shape = empty_stack.shape[1]\n",
        "buffer_shape = empty_buffer.shape[1]\n",
        "\n",
        "action_shape = action_train[0].shape[0]\n",
        "deprel_shape = deprel_train[0].shape[0]\n",
        "\n",
        "input1 = tf.keras.layers.Input(shape=(stack_shape,),name = 'Stack_Input')\n",
        "input2 = tf.keras.layers.Input(shape=(buffer_shape,),name = 'Buffer_Input')\n",
        "merged = tf.keras.layers.Concatenate(axis=1,name = 'Concat_Layer')([input1, input2])\n",
        "dense1 = tf.keras.layers.Dense(15, input_dim=2, activation='sigmoid', use_bias=True,name = 'Dense_Layer')(merged)\n",
        "dense2 = tf.keras.layers.Dense(30, activation='relu',name = 'Dense_Layer2')(dense1)\n",
        "output1 = tf.keras.layers.Dense(action_shape, activation='softmax', use_bias=True,name = 'Action_Output')(dense2)\n",
        "output2 = tf.keras.layers.Dense(deprel_shape, activation='softmax', use_bias=True,name = 'Deprel_Output')(dense2)\n",
        "model = tf.keras.Model(inputs=[input1,input2],outputs=[output1,output2])\n",
        "\n",
        "opt = tf.keras.optimizers.SGD(learning_rate=0.001) #default 0.001\n",
        "model.compile(loss='categorical_crossentropy',optimizer=opt,metrics=['accuracy'])\n",
        "print(model.summary())\n",
        "\n",
        "model.fit([empty_stack,empty_buffer],[action_train, deprel_train], epochs=10, batch_size=100)"
      ],
      "metadata": {
        "colab": {
          "base_uri": "https://localhost:8080/"
        },
        "id": "pBkeZ-aKAOKt",
        "outputId": "10d4dfe1-60ce-4eed-d5ff-9f19714acad6"
      },
      "execution_count": null,
      "outputs": [
        {
          "output_type": "stream",
          "name": "stdout",
          "text": [
            "Model: \"model_11\"\n",
            "__________________________________________________________________________________________________\n",
            " Layer (type)                   Output Shape         Param #     Connected to                     \n",
            "==================================================================================================\n",
            " Stack_Input (InputLayer)       [(None, 2)]          0           []                               \n",
            "                                                                                                  \n",
            " Buffer_Input (InputLayer)      [(None, 3)]          0           []                               \n",
            "                                                                                                  \n",
            " Concat_Layer (Concatenate)     (None, 5)            0           ['Stack_Input[0][0]',            \n",
            "                                                                  'Buffer_Input[0][0]']           \n",
            "                                                                                                  \n",
            " Dense_Layer (Dense)            (None, 15)           90          ['Concat_Layer[0][0]']           \n",
            "                                                                                                  \n",
            " Dense_Layer2 (Dense)           (None, 30)           480         ['Dense_Layer[0][0]']            \n",
            "                                                                                                  \n",
            " Action_Output (Dense)          (None, 6)            186         ['Dense_Layer2[0][0]']           \n",
            "                                                                                                  \n",
            " Deprel_Output (Dense)          (None, 41)           1271        ['Dense_Layer2[0][0]']           \n",
            "                                                                                                  \n",
            "==================================================================================================\n",
            "Total params: 2,027\n",
            "Trainable params: 2,027\n",
            "Non-trainable params: 0\n",
            "__________________________________________________________________________________________________\n",
            "None\n",
            "Epoch 1/10\n",
            "888/888 [==============================] - 2s 2ms/step - loss: 3.7019 - Action_Output_loss: 1.4944 - Deprel_Output_loss: 2.2075 - Action_Output_accuracy: 0.3738 - Deprel_Output_accuracy: 0.6119\n",
            "Epoch 2/10\n",
            "888/888 [==============================] - 2s 2ms/step - loss: 2.7694 - Action_Output_loss: 1.2531 - Deprel_Output_loss: 1.5163 - Action_Output_accuracy: 0.5174 - Deprel_Output_accuracy: 0.7233\n",
            "Epoch 3/10\n",
            "888/888 [==============================] - 2s 2ms/step - loss: 2.6228 - Action_Output_loss: 1.1546 - Deprel_Output_loss: 1.4682 - Action_Output_accuracy: 0.5931 - Deprel_Output_accuracy: 0.7233\n",
            "Epoch 4/10\n",
            "888/888 [==============================] - 2s 2ms/step - loss: 2.5109 - Action_Output_loss: 1.0827 - Deprel_Output_loss: 1.4281 - Action_Output_accuracy: 0.6267 - Deprel_Output_accuracy: 0.7233\n",
            "Epoch 5/10\n",
            "888/888 [==============================] - 2s 2ms/step - loss: 2.4163 - Action_Output_loss: 1.0215 - Deprel_Output_loss: 1.3948 - Action_Output_accuracy: 0.6421 - Deprel_Output_accuracy: 0.7233\n",
            "Epoch 6/10\n",
            "888/888 [==============================] - 3s 3ms/step - loss: 2.3338 - Action_Output_loss: 0.9697 - Deprel_Output_loss: 1.3641 - Action_Output_accuracy: 0.6495 - Deprel_Output_accuracy: 0.7233\n",
            "Epoch 7/10\n",
            "888/888 [==============================] - 2s 2ms/step - loss: 2.2604 - Action_Output_loss: 0.9259 - Deprel_Output_loss: 1.3345 - Action_Output_accuracy: 0.6544 - Deprel_Output_accuracy: 0.7233\n",
            "Epoch 8/10\n",
            "888/888 [==============================] - 2s 2ms/step - loss: 2.2040 - Action_Output_loss: 0.8943 - Deprel_Output_loss: 1.3098 - Action_Output_accuracy: 0.6531 - Deprel_Output_accuracy: 0.7233\n",
            "Epoch 9/10\n",
            "888/888 [==============================] - 2s 2ms/step - loss: 2.1710 - Action_Output_loss: 0.8773 - Deprel_Output_loss: 1.2937 - Action_Output_accuracy: 0.6558 - Deprel_Output_accuracy: 0.7233\n",
            "Epoch 10/10\n",
            "888/888 [==============================] - 2s 2ms/step - loss: 2.1358 - Action_Output_loss: 0.8565 - Deprel_Output_loss: 1.2793 - Action_Output_accuracy: 0.6559 - Deprel_Output_accuracy: 0.7233\n"
          ]
        },
        {
          "output_type": "execute_result",
          "data": {
            "text/plain": [
              "<keras.callbacks.History at 0x7f69c1c112b0>"
            ]
          },
          "metadata": {},
          "execution_count": 67
        }
      ]
    },
    {
      "cell_type": "code",
      "source": [
        "stack_shape = empty_stack.shape[1]\n",
        "buffer_shape = empty_buffer.shape[1]\n",
        "\n",
        "action_shape = action_train[0].shape[0]\n",
        "deprel_shape = deprel_train[0].shape[0]\n",
        "\n",
        "input1 = tf.keras.layers.Input(shape=(stack_shape,),name = 'Stack_Input')\n",
        "input2 = tf.keras.layers.Input(shape=(buffer_shape,),name = 'Buffer_Input')\n",
        "merged = tf.keras.layers.Concatenate(axis=1,name = 'Concat_Layer')([input1, input2])\n",
        "dense1 = tf.keras.layers.Dense(15, input_dim=2, activation='sigmoid', use_bias=True,name = 'Dense_Layer')(merged)\n",
        "dense2 = tf.keras.layers.Dense(30, activation='relu',name = 'Dense_Layer2')(dense1)\n",
        "output1 = tf.keras.layers.Dense(action_shape, activation='softmax', use_bias=True,name = 'Action_Output')(dense2)\n",
        "output2 = tf.keras.layers.Dense(deprel_shape, activation='softmax', use_bias=True,name = 'Deprel_Output')(dense2)\n",
        "model = tf.keras.Model(inputs=[input1,input2],outputs=[output1,output2])\n",
        "\n",
        "opt = tf.keras.optimizers.RMSprop(learning_rate=0.001) #default 0.001\n",
        "model.compile(loss='categorical_crossentropy',optimizer=opt,metrics=['accuracy'])\n",
        "print(model.summary())\n",
        "\n",
        "model.fit([empty_stack,empty_buffer],[action_train, deprel_train], epochs=10, batch_size=100)"
      ],
      "metadata": {
        "colab": {
          "base_uri": "https://localhost:8080/"
        },
        "id": "tChugiFR6_CG",
        "outputId": "c9c80ce3-352c-457f-eec7-1a9d9f4fb3f7"
      },
      "execution_count": null,
      "outputs": [
        {
          "output_type": "stream",
          "name": "stdout",
          "text": [
            "Model: \"model_12\"\n",
            "__________________________________________________________________________________________________\n",
            " Layer (type)                   Output Shape         Param #     Connected to                     \n",
            "==================================================================================================\n",
            " Stack_Input (InputLayer)       [(None, 2)]          0           []                               \n",
            "                                                                                                  \n",
            " Buffer_Input (InputLayer)      [(None, 3)]          0           []                               \n",
            "                                                                                                  \n",
            " Concat_Layer (Concatenate)     (None, 5)            0           ['Stack_Input[0][0]',            \n",
            "                                                                  'Buffer_Input[0][0]']           \n",
            "                                                                                                  \n",
            " Dense_Layer (Dense)            (None, 15)           90          ['Concat_Layer[0][0]']           \n",
            "                                                                                                  \n",
            " Dense_Layer2 (Dense)           (None, 30)           480         ['Dense_Layer[0][0]']            \n",
            "                                                                                                  \n",
            " Action_Output (Dense)          (None, 6)            186         ['Dense_Layer2[0][0]']           \n",
            "                                                                                                  \n",
            " Deprel_Output (Dense)          (None, 41)           1271        ['Dense_Layer2[0][0]']           \n",
            "                                                                                                  \n",
            "==================================================================================================\n",
            "Total params: 2,027\n",
            "Trainable params: 2,027\n",
            "Non-trainable params: 0\n",
            "__________________________________________________________________________________________________\n",
            "None\n",
            "Epoch 1/10\n",
            "888/888 [==============================] - 3s 2ms/step - loss: 2.2598 - Action_Output_loss: 0.8715 - Deprel_Output_loss: 1.3884 - Action_Output_accuracy: 0.6628 - Deprel_Output_accuracy: 0.7044\n",
            "Epoch 2/10\n",
            "888/888 [==============================] - 2s 2ms/step - loss: 1.8170 - Action_Output_loss: 0.6388 - Deprel_Output_loss: 1.1782 - Action_Output_accuracy: 0.7234 - Deprel_Output_accuracy: 0.7233\n",
            "Epoch 3/10\n",
            "888/888 [==============================] - 2s 2ms/step - loss: 1.7461 - Action_Output_loss: 0.5980 - Deprel_Output_loss: 1.1481 - Action_Output_accuracy: 0.7374 - Deprel_Output_accuracy: 0.7231\n",
            "Epoch 4/10\n",
            "888/888 [==============================] - 2s 2ms/step - loss: 1.6993 - Action_Output_loss: 0.5732 - Deprel_Output_loss: 1.1261 - Action_Output_accuracy: 0.7441 - Deprel_Output_accuracy: 0.7231\n",
            "Epoch 5/10\n",
            "888/888 [==============================] - 2s 2ms/step - loss: 1.6505 - Action_Output_loss: 0.5509 - Deprel_Output_loss: 1.0996 - Action_Output_accuracy: 0.7491 - Deprel_Output_accuracy: 0.7231\n",
            "Epoch 6/10\n",
            "888/888 [==============================] - 2s 2ms/step - loss: 1.6358 - Action_Output_loss: 0.5432 - Deprel_Output_loss: 1.0926 - Action_Output_accuracy: 0.7511 - Deprel_Output_accuracy: 0.7237\n",
            "Epoch 7/10\n",
            "888/888 [==============================] - 2s 2ms/step - loss: 1.6249 - Action_Output_loss: 0.5337 - Deprel_Output_loss: 1.0913 - Action_Output_accuracy: 0.7578 - Deprel_Output_accuracy: 0.7239\n",
            "Epoch 8/10\n",
            "888/888 [==============================] - 2s 2ms/step - loss: 1.6203 - Action_Output_loss: 0.5326 - Deprel_Output_loss: 1.0877 - Action_Output_accuracy: 0.7576 - Deprel_Output_accuracy: 0.7237\n",
            "Epoch 9/10\n",
            "888/888 [==============================] - 2s 2ms/step - loss: 1.6167 - Action_Output_loss: 0.5304 - Deprel_Output_loss: 1.0864 - Action_Output_accuracy: 0.7607 - Deprel_Output_accuracy: 0.7242\n",
            "Epoch 10/10\n",
            "888/888 [==============================] - 2s 2ms/step - loss: 1.6157 - Action_Output_loss: 0.5295 - Deprel_Output_loss: 1.0863 - Action_Output_accuracy: 0.7617 - Deprel_Output_accuracy: 0.7245\n"
          ]
        },
        {
          "output_type": "execute_result",
          "data": {
            "text/plain": [
              "<keras.callbacks.History at 0x7f69c2250610>"
            ]
          },
          "metadata": {},
          "execution_count": 68
        }
      ]
    },
    {
      "cell_type": "code",
      "source": [
        "for index,element in enumerate(x_train_df['Stack']):\n",
        "  x_train_df.loc[index,'Stack'] = np.asarray(element).astype(np.float32)\n",
        "\n",
        "for index,element in enumerate(x_train_df['Buffer']):\n",
        "  x_train_df.loc[index,'Buffer'] = np.asarray(element).astype(np.float32)"
      ],
      "metadata": {
        "id": "nng9PjJ8-4qi"
      },
      "execution_count": null,
      "outputs": []
    },
    {
      "cell_type": "code",
      "source": [
        "np.asarray(x_train_df['Buffer'].values)"
      ],
      "metadata": {
        "colab": {
          "base_uri": "https://localhost:8080/",
          "height": 252
        },
        "id": "O5PV62_nBjXJ",
        "outputId": "7555ff96-a5fa-4e03-9b7e-f1f67c6aa054"
      },
      "execution_count": null,
      "outputs": [
        {
          "output_type": "error",
          "ename": "ValueError",
          "evalue": "ignored",
          "traceback": [
            "\u001b[0;31m---------------------------------------------------------------------------\u001b[0m",
            "\u001b[0;31mTypeError\u001b[0m                                 Traceback (most recent call last)",
            "\u001b[0;31mTypeError\u001b[0m: only size-1 arrays can be converted to Python scalars",
            "\nThe above exception was the direct cause of the following exception:\n",
            "\u001b[0;31mValueError\u001b[0m                                Traceback (most recent call last)",
            "\u001b[0;32m<ipython-input-61-8e59552239d2>\u001b[0m in \u001b[0;36m<module>\u001b[0;34m\u001b[0m\n\u001b[0;32m----> 1\u001b[0;31m \u001b[0mnp\u001b[0m\u001b[0;34m.\u001b[0m\u001b[0masarray\u001b[0m\u001b[0;34m(\u001b[0m\u001b[0mx_train_df\u001b[0m\u001b[0;34m[\u001b[0m\u001b[0;34m'Buffer'\u001b[0m\u001b[0;34m]\u001b[0m\u001b[0;34m.\u001b[0m\u001b[0mvalues\u001b[0m\u001b[0;34m,\u001b[0m\u001b[0mdtype\u001b[0m\u001b[0;34m=\u001b[0m\u001b[0mfloat\u001b[0m\u001b[0;34m)\u001b[0m\u001b[0;34m\u001b[0m\u001b[0;34m\u001b[0m\u001b[0m\n\u001b[0m",
            "\u001b[0;31mValueError\u001b[0m: setting an array element with a sequence."
          ]
        }
      ]
    },
    {
      "cell_type": "code",
      "source": [
        "model.fit([np.asarray(x_train_df['Buffer'].values),x_train_df['Buffer'].values],[action_train, deprel_train], epochs=5, batch_size=500)"
      ],
      "metadata": {
        "colab": {
          "base_uri": "https://localhost:8080/",
          "height": 311
        },
        "id": "8vZWL66q-amA",
        "outputId": "a2c91f21-5783-44c6-9bae-d5668b7501e7"
      },
      "execution_count": null,
      "outputs": [
        {
          "output_type": "error",
          "ename": "ValueError",
          "evalue": "ignored",
          "traceback": [
            "\u001b[0;31m---------------------------------------------------------------------------\u001b[0m",
            "\u001b[0;31mValueError\u001b[0m                                Traceback (most recent call last)",
            "\u001b[0;32m<ipython-input-48-cad0da6227d7>\u001b[0m in \u001b[0;36m<module>\u001b[0;34m\u001b[0m\n\u001b[0;32m----> 1\u001b[0;31m \u001b[0mmodel\u001b[0m\u001b[0;34m.\u001b[0m\u001b[0mfit\u001b[0m\u001b[0;34m(\u001b[0m\u001b[0;34m[\u001b[0m\u001b[0mx_train_df\u001b[0m\u001b[0;34m[\u001b[0m\u001b[0;34m'Stack'\u001b[0m\u001b[0;34m]\u001b[0m\u001b[0;34m.\u001b[0m\u001b[0mvalues\u001b[0m\u001b[0;34m,\u001b[0m\u001b[0mx_train_df\u001b[0m\u001b[0;34m[\u001b[0m\u001b[0;34m'Buffer'\u001b[0m\u001b[0;34m]\u001b[0m\u001b[0;34m.\u001b[0m\u001b[0mvalues\u001b[0m\u001b[0;34m]\u001b[0m\u001b[0;34m,\u001b[0m\u001b[0;34m[\u001b[0m\u001b[0maction_train\u001b[0m\u001b[0;34m,\u001b[0m \u001b[0mdeprel_train\u001b[0m\u001b[0;34m]\u001b[0m\u001b[0;34m,\u001b[0m \u001b[0mepochs\u001b[0m\u001b[0;34m=\u001b[0m\u001b[0;36m5\u001b[0m\u001b[0;34m,\u001b[0m \u001b[0mbatch_size\u001b[0m\u001b[0;34m=\u001b[0m\u001b[0;36m500\u001b[0m\u001b[0;34m)\u001b[0m\u001b[0;34m\u001b[0m\u001b[0;34m\u001b[0m\u001b[0m\n\u001b[0m",
            "\u001b[0;32m/usr/local/lib/python3.8/dist-packages/keras/utils/traceback_utils.py\u001b[0m in \u001b[0;36merror_handler\u001b[0;34m(*args, **kwargs)\u001b[0m\n\u001b[1;32m     65\u001b[0m     \u001b[0;32mexcept\u001b[0m \u001b[0mException\u001b[0m \u001b[0;32mas\u001b[0m \u001b[0me\u001b[0m\u001b[0;34m:\u001b[0m  \u001b[0;31m# pylint: disable=broad-except\u001b[0m\u001b[0;34m\u001b[0m\u001b[0;34m\u001b[0m\u001b[0m\n\u001b[1;32m     66\u001b[0m       \u001b[0mfiltered_tb\u001b[0m \u001b[0;34m=\u001b[0m \u001b[0m_process_traceback_frames\u001b[0m\u001b[0;34m(\u001b[0m\u001b[0me\u001b[0m\u001b[0;34m.\u001b[0m\u001b[0m__traceback__\u001b[0m\u001b[0;34m)\u001b[0m\u001b[0;34m\u001b[0m\u001b[0;34m\u001b[0m\u001b[0m\n\u001b[0;32m---> 67\u001b[0;31m       \u001b[0;32mraise\u001b[0m \u001b[0me\u001b[0m\u001b[0;34m.\u001b[0m\u001b[0mwith_traceback\u001b[0m\u001b[0;34m(\u001b[0m\u001b[0mfiltered_tb\u001b[0m\u001b[0;34m)\u001b[0m \u001b[0;32mfrom\u001b[0m \u001b[0;32mNone\u001b[0m\u001b[0;34m\u001b[0m\u001b[0;34m\u001b[0m\u001b[0m\n\u001b[0m\u001b[1;32m     68\u001b[0m     \u001b[0;32mfinally\u001b[0m\u001b[0;34m:\u001b[0m\u001b[0;34m\u001b[0m\u001b[0;34m\u001b[0m\u001b[0m\n\u001b[1;32m     69\u001b[0m       \u001b[0;32mdel\u001b[0m \u001b[0mfiltered_tb\u001b[0m\u001b[0;34m\u001b[0m\u001b[0;34m\u001b[0m\u001b[0m\n",
            "\u001b[0;32m/usr/local/lib/python3.8/dist-packages/tensorflow/python/framework/constant_op.py\u001b[0m in \u001b[0;36mconvert_to_eager_tensor\u001b[0;34m(value, ctx, dtype)\u001b[0m\n\u001b[1;32m    100\u001b[0m       \u001b[0mdtype\u001b[0m \u001b[0;34m=\u001b[0m \u001b[0mdtypes\u001b[0m\u001b[0;34m.\u001b[0m\u001b[0mas_dtype\u001b[0m\u001b[0;34m(\u001b[0m\u001b[0mdtype\u001b[0m\u001b[0;34m)\u001b[0m\u001b[0;34m.\u001b[0m\u001b[0mas_datatype_enum\u001b[0m\u001b[0;34m\u001b[0m\u001b[0;34m\u001b[0m\u001b[0m\n\u001b[1;32m    101\u001b[0m   \u001b[0mctx\u001b[0m\u001b[0;34m.\u001b[0m\u001b[0mensure_initialized\u001b[0m\u001b[0;34m(\u001b[0m\u001b[0;34m)\u001b[0m\u001b[0;34m\u001b[0m\u001b[0;34m\u001b[0m\u001b[0m\n\u001b[0;32m--> 102\u001b[0;31m   \u001b[0;32mreturn\u001b[0m \u001b[0mops\u001b[0m\u001b[0;34m.\u001b[0m\u001b[0mEagerTensor\u001b[0m\u001b[0;34m(\u001b[0m\u001b[0mvalue\u001b[0m\u001b[0;34m,\u001b[0m \u001b[0mctx\u001b[0m\u001b[0;34m.\u001b[0m\u001b[0mdevice_name\u001b[0m\u001b[0;34m,\u001b[0m \u001b[0mdtype\u001b[0m\u001b[0;34m)\u001b[0m\u001b[0;34m\u001b[0m\u001b[0;34m\u001b[0m\u001b[0m\n\u001b[0m\u001b[1;32m    103\u001b[0m \u001b[0;34m\u001b[0m\u001b[0m\n\u001b[1;32m    104\u001b[0m \u001b[0;34m\u001b[0m\u001b[0m\n",
            "\u001b[0;31mValueError\u001b[0m: Failed to convert a NumPy array to a Tensor (Unsupported object type numpy.ndarray)."
          ]
        }
      ]
    }
  ]
}