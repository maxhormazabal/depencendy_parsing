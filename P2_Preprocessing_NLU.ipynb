{
  "cells": [
    {
      "cell_type": "markdown",
      "metadata": {
        "id": "view-in-github",
        "colab_type": "text"
      },
      "source": [
        "<a href=\"https://colab.research.google.com/github/maxhormazabal/depencendy_parsing/blob/main/P2_Preprocessing_NLU.ipynb\" target=\"_parent\"><img src=\"https://colab.research.google.com/assets/colab-badge.svg\" alt=\"Open In Colab\"/></a>"
      ]
    },
    {
      "cell_type": "markdown",
      "metadata": {
        "id": "hiIjtQIW-xwx"
      },
      "source": [
        "# Preprocesamiento\n",
        "\n",
        "## Instalación de dependencias"
      ]
    },
    {
      "cell_type": "code",
      "execution_count": 1,
      "metadata": {
        "colab": {
          "base_uri": "https://localhost:8080/"
        },
        "id": "LgvUH3m47oHY",
        "outputId": "1c5ae185-a83c-45af-c327-41690acf5586"
      },
      "outputs": [
        {
          "output_type": "stream",
          "name": "stdout",
          "text": [
            "Looking in indexes: https://pypi.org/simple, https://us-python.pkg.dev/colab-wheels/public/simple/\n",
            "Collecting conllu\n",
            "  Downloading conllu-4.5.2-py2.py3-none-any.whl (16 kB)\n",
            "Installing collected packages: conllu\n",
            "Successfully installed conllu-4.5.2\n"
          ]
        }
      ],
      "source": [
        "!pip install conllu"
      ]
    },
    {
      "cell_type": "markdown",
      "metadata": {
        "id": "aqe_9RpC-94T"
      },
      "source": [
        "## Conectando con Google Drive para leer el archivo `.py` que contiene las funciones a utilizar."
      ]
    },
    {
      "cell_type": "code",
      "execution_count": 2,
      "metadata": {
        "colab": {
          "base_uri": "https://localhost:8080/"
        },
        "id": "owHKXmFn1BPs",
        "outputId": "451dc7db-0eb3-412f-ac13-4d21a02197dd"
      },
      "outputs": [
        {
          "output_type": "stream",
          "name": "stdout",
          "text": [
            "Mounted at /content/drive\n"
          ]
        }
      ],
      "source": [
        "# Getting access to Google Drive files\n",
        "from google.colab import drive\n",
        "drive.mount('/content/drive')"
      ]
    },
    {
      "cell_type": "code",
      "execution_count": 3,
      "metadata": {
        "id": "LIpSqrDi3HrT"
      },
      "outputs": [],
      "source": [
        "# Import our own functions (they are in a .py file on Google Drive)\n",
        "import os\n",
        "os.chdir(\"/content/drive/MyDrive/MASTER\")\n",
        "from nlu_preprocessing_utils import *\n",
        "from conllu import parse\n",
        "import tensorflow as tf\n",
        "import pandas as pd\n",
        "import numpy as np\n",
        "import math"
      ]
    },
    {
      "cell_type": "markdown",
      "metadata": {
        "id": "3SOj67OF_IYX"
      },
      "source": [
        "## Leyendo fuente de datos desde su origen en github"
      ]
    },
    {
      "cell_type": "code",
      "execution_count": 4,
      "metadata": {
        "colab": {
          "base_uri": "https://localhost:8080/"
        },
        "id": "7xYLYzM18CJL",
        "outputId": "647d2db2-d6af-4a90-9fae-81e933ef0369"
      },
      "outputs": [
        {
          "output_type": "stream",
          "name": "stdout",
          "text": [
            "Downloading data from https://raw.githubusercontent.com/UniversalDependencies/UD_English-ParTUT/master/en_partut-ud-train.conllu\n",
            "2380069/2380069 [==============================] - 0s 0us/step\n",
            "Downloading data from https://raw.githubusercontent.com/UniversalDependencies/UD_English-ParTUT/master/en_partut-ud-test.conllu\n",
            "187923/187923 [==============================] - 0s 0us/step\n",
            "Downloading data from https://raw.githubusercontent.com/UniversalDependencies/UD_English-ParTUT/master/en_partut-ud-dev.conllu\n",
            "152194/152194 [==============================] - 0s 0us/step\n",
            "Total of different UPOS:  17\n",
            "{'NOUN': 1, 'ADP': 2, 'DET': 3, 'AUX': 4, 'PART': 5, 'VERB': 6, 'PUNCT': 7, 'PROPN': 8, 'CCONJ': 9, 'ADJ': 10, 'ADV': 11, 'PRON': 12, 'NUM': 13, 'SCONJ': 14, 'X': 15, 'INTJ': 16, 'SYM': 17}\n"
          ]
        }
      ],
      "source": [
        "# English\n",
        "# 'https://raw.githubusercontent.com/UniversalDependencies/UD_English-EWT/master/en_ewt-ud-train.conllu'\n",
        "# https://raw.githubusercontent.com/UniversalDependencies/UD_English-ParTUT/master/en_partut-ud-train.conllu\n",
        "\n",
        "base_url = 'https://raw.githubusercontent.com/UniversalDependencies/UD_English-ParTUT/master/'\n",
        "file_basename = 'en_partut-ud'\n",
        "(en_train,en_test,en_val) = readConlluDataset(base_url,file_basename)\n",
        "en_upo2number, en_number2upo, en_nupos = getUposList(en_train)"
      ]
    },
    {
      "cell_type": "markdown",
      "metadata": {
        "id": "yNc5Q7KP_Mz2"
      },
      "source": [
        "## Transformando la fuente de datos en el dataset inicial"
      ]
    },
    {
      "cell_type": "code",
      "execution_count": 5,
      "metadata": {
        "id": "f4LZejqf8QKV",
        "colab": {
          "base_uri": "https://localhost:8080/",
          "height": 624
        },
        "outputId": "3f8808e4-c769-46b7-aefc-88cdc47b85f7"
      },
      "outputs": [
        {
          "output_type": "execute_result",
          "data": {
            "text/plain": [
              "                                                     id  \\\n",
              "0           [1, 2, 3, 4, 5, 6, 7, 8, 9, 10, 11, 12, 13]   \n",
              "1       [1, 2, 3, 4, 5, 6, 7, 8, 9, 10, 11, 12, 13, 14]   \n",
              "2     [1, 2, 3, 4, 5, 6, 7, 8, 9, 10, 11, 12, 13, 14...   \n",
              "3                                                [1, 2]   \n",
              "4           [1, 2, 3, 4, 5, 6, 7, 8, 9, 10, 11, 12, 13]   \n",
              "...                                                 ...   \n",
              "1776  [1, 2, 3, 4, 5, 6, 7, 8, 9, 10, 11, 12, 13, 14...   \n",
              "1777  [1, 2, 3, 4, 5, 6, 7, 8, 9, 10, 11, 12, 13, 14...   \n",
              "1778  [1, 2, 3, 4, 5, 6, 7, 8, 9, 10, 11, 12, 13, 14...   \n",
              "1779  [1, 2, 3, 4, 5, 6, 7, 8, 9, 10, 11, 12, 13, 14...   \n",
              "1780                    [1, 2, 3, 4, 5, 6, 7, 8, 9, 10]   \n",
              "\n",
              "                                                   form  \\\n",
              "0     [Distribution, of, this, license, does, not, c...   \n",
              "1     [Creative, Commons, provides, this, informatio...   \n",
              "2     [Creative, Commons, makes, no, warranties, reg...   \n",
              "3                                          [License, .]   \n",
              "4     [The, work, is, protected, by, copyright, and,...   \n",
              "...                                                 ...   \n",
              "1776  [From, the, 18, th, century, ,, the, desire, f...   \n",
              "1777  [That, demand, also, led, to, the, production,...   \n",
              "1778  [Shakespeare, 's, works, include, the, 36, pla...   \n",
              "1779  [Two, plays, not, included, in, the, First, Fo...   \n",
              "1780  [No, Shakespearean, poems, were, included, in,...   \n",
              "\n",
              "                                                   head  \\\n",
              "0             [7, 4, 4, 1, 7, 7, 0, 12, 12, 9, 9, 7, 7]   \n",
              "1      [3, 1, 0, 5, 3, 13, 13, 11, 11, 9, 13, 11, 3, 3]   \n",
              "2     [3, 1, 0, 5, 3, 5, 8, 6, 8, 12, 12, 3, 12, 15,...   \n",
              "3                                                [0, 1]   \n",
              "4            [2, 4, 4, 0, 6, 4, 12, 9, 7, 12, 12, 6, 4]   \n",
              "...                                                 ...   \n",
              "1776  [5, 5, 5, 3, 13, 5, 8, 13, 12, 12, 12, 8, 0, 1...   \n",
              "1777  [2, 4, 4, 0, 7, 7, 4, 11, 11, 11, 7, 18, 18, 1...   \n",
              "1778  [3, 1, 4, 0, 7, 7, 4, 7, 12, 12, 12, 8, 14, 12...   \n",
              "1779  [2, 23, 4, 2, 8, 8, 8, 4, 2, 13, 13, 13, 2, 15...   \n",
              "1780                     [3, 3, 5, 5, 0, 9, 9, 9, 5, 5]   \n",
              "\n",
              "                                                 deprel  \\\n",
              "0     [nsubj, case, det, nmod, aux, advmod, root, de...   \n",
              "1     [nsubj, flat, root, det, obj, case, det, punct...   \n",
              "2     [nsubj, flat, root, det, obj, acl, det, obj, a...   \n",
              "3                                         [root, punct]   \n",
              "4     [det, nsubj:pass, aux:pass, root, case, obl, c...   \n",
              "...                                                 ...   \n",
              "1776  [case, det, nummod, amod, obl, punct, det, nsu...   \n",
              "1777  [det, nsubj, advmod, root, case, det, obl, cas...   \n",
              "1778  [nmod, case, nsubj, root, det, nummod, obj, ac...   \n",
              "1779  [nummod, nsubj:pass, advmod, acl, case, det, a...   \n",
              "1780  [det, amod, nsubj:pass, aux:pass, root, case, ...   \n",
              "\n",
              "                                                   upos  \n",
              "0               [1, 2, 3, 1, 4, 5, 6, 3, 1, 7, 1, 1, 7]  \n",
              "1            [8, 8, 6, 3, 1, 2, 3, 7, 2, 7, 6, 7, 1, 7]  \n",
              "2     [8, 8, 6, 3, 1, 6, 3, 1, 6, 7, 9, 6, 1, 2, 1, ...  \n",
              "3                                                [1, 7]  \n",
              "4             [3, 1, 4, 6, 2, 1, 9, 7, 9, 10, 10, 1, 7]  \n",
              "...                                                 ...  \n",
              "1776  [2, 3, 13, 10, 1, 7, 3, 1, 2, 10, 8, 1, 6, 1, ...  \n",
              "1777  [3, 1, 11, 6, 2, 3, 1, 2, 10, 10, 1, 7, 11, 11...  \n",
              "1778  [8, 5, 1, 6, 3, 13, 1, 6, 2, 3, 10, 1, 2, 13, ...  \n",
              "1779  [13, 1, 5, 6, 2, 3, 10, 1, 7, 3, 13, 10, 1, 9,...  \n",
              "1780                   [3, 10, 1, 4, 6, 2, 3, 10, 1, 7]  \n",
              "\n",
              "[1781 rows x 5 columns]"
            ],
            "text/html": [
              "\n",
              "  <div id=\"df-64483fa2-6520-4af4-8de4-d92fa47b07d8\">\n",
              "    <div class=\"colab-df-container\">\n",
              "      <div>\n",
              "<style scoped>\n",
              "    .dataframe tbody tr th:only-of-type {\n",
              "        vertical-align: middle;\n",
              "    }\n",
              "\n",
              "    .dataframe tbody tr th {\n",
              "        vertical-align: top;\n",
              "    }\n",
              "\n",
              "    .dataframe thead th {\n",
              "        text-align: right;\n",
              "    }\n",
              "</style>\n",
              "<table border=\"1\" class=\"dataframe\">\n",
              "  <thead>\n",
              "    <tr style=\"text-align: right;\">\n",
              "      <th></th>\n",
              "      <th>id</th>\n",
              "      <th>form</th>\n",
              "      <th>head</th>\n",
              "      <th>deprel</th>\n",
              "      <th>upos</th>\n",
              "    </tr>\n",
              "  </thead>\n",
              "  <tbody>\n",
              "    <tr>\n",
              "      <th>0</th>\n",
              "      <td>[1, 2, 3, 4, 5, 6, 7, 8, 9, 10, 11, 12, 13]</td>\n",
              "      <td>[Distribution, of, this, license, does, not, c...</td>\n",
              "      <td>[7, 4, 4, 1, 7, 7, 0, 12, 12, 9, 9, 7, 7]</td>\n",
              "      <td>[nsubj, case, det, nmod, aux, advmod, root, de...</td>\n",
              "      <td>[1, 2, 3, 1, 4, 5, 6, 3, 1, 7, 1, 1, 7]</td>\n",
              "    </tr>\n",
              "    <tr>\n",
              "      <th>1</th>\n",
              "      <td>[1, 2, 3, 4, 5, 6, 7, 8, 9, 10, 11, 12, 13, 14]</td>\n",
              "      <td>[Creative, Commons, provides, this, informatio...</td>\n",
              "      <td>[3, 1, 0, 5, 3, 13, 13, 11, 11, 9, 13, 11, 3, 3]</td>\n",
              "      <td>[nsubj, flat, root, det, obj, case, det, punct...</td>\n",
              "      <td>[8, 8, 6, 3, 1, 2, 3, 7, 2, 7, 6, 7, 1, 7]</td>\n",
              "    </tr>\n",
              "    <tr>\n",
              "      <th>2</th>\n",
              "      <td>[1, 2, 3, 4, 5, 6, 7, 8, 9, 10, 11, 12, 13, 14...</td>\n",
              "      <td>[Creative, Commons, makes, no, warranties, reg...</td>\n",
              "      <td>[3, 1, 0, 5, 3, 5, 8, 6, 8, 12, 12, 3, 12, 15,...</td>\n",
              "      <td>[nsubj, flat, root, det, obj, acl, det, obj, a...</td>\n",
              "      <td>[8, 8, 6, 3, 1, 6, 3, 1, 6, 7, 9, 6, 1, 2, 1, ...</td>\n",
              "    </tr>\n",
              "    <tr>\n",
              "      <th>3</th>\n",
              "      <td>[1, 2]</td>\n",
              "      <td>[License, .]</td>\n",
              "      <td>[0, 1]</td>\n",
              "      <td>[root, punct]</td>\n",
              "      <td>[1, 7]</td>\n",
              "    </tr>\n",
              "    <tr>\n",
              "      <th>4</th>\n",
              "      <td>[1, 2, 3, 4, 5, 6, 7, 8, 9, 10, 11, 12, 13]</td>\n",
              "      <td>[The, work, is, protected, by, copyright, and,...</td>\n",
              "      <td>[2, 4, 4, 0, 6, 4, 12, 9, 7, 12, 12, 6, 4]</td>\n",
              "      <td>[det, nsubj:pass, aux:pass, root, case, obl, c...</td>\n",
              "      <td>[3, 1, 4, 6, 2, 1, 9, 7, 9, 10, 10, 1, 7]</td>\n",
              "    </tr>\n",
              "    <tr>\n",
              "      <th>...</th>\n",
              "      <td>...</td>\n",
              "      <td>...</td>\n",
              "      <td>...</td>\n",
              "      <td>...</td>\n",
              "      <td>...</td>\n",
              "    </tr>\n",
              "    <tr>\n",
              "      <th>1776</th>\n",
              "      <td>[1, 2, 3, 4, 5, 6, 7, 8, 9, 10, 11, 12, 13, 14...</td>\n",
              "      <td>[From, the, 18, th, century, ,, the, desire, f...</td>\n",
              "      <td>[5, 5, 5, 3, 13, 5, 8, 13, 12, 12, 12, 8, 0, 1...</td>\n",
              "      <td>[case, det, nummod, amod, obl, punct, det, nsu...</td>\n",
              "      <td>[2, 3, 13, 10, 1, 7, 3, 1, 2, 10, 8, 1, 6, 1, ...</td>\n",
              "    </tr>\n",
              "    <tr>\n",
              "      <th>1777</th>\n",
              "      <td>[1, 2, 3, 4, 5, 6, 7, 8, 9, 10, 11, 12, 13, 14...</td>\n",
              "      <td>[That, demand, also, led, to, the, production,...</td>\n",
              "      <td>[2, 4, 4, 0, 7, 7, 4, 11, 11, 11, 7, 18, 18, 1...</td>\n",
              "      <td>[det, nsubj, advmod, root, case, det, obl, cas...</td>\n",
              "      <td>[3, 1, 11, 6, 2, 3, 1, 2, 10, 10, 1, 7, 11, 11...</td>\n",
              "    </tr>\n",
              "    <tr>\n",
              "      <th>1778</th>\n",
              "      <td>[1, 2, 3, 4, 5, 6, 7, 8, 9, 10, 11, 12, 13, 14...</td>\n",
              "      <td>[Shakespeare, 's, works, include, the, 36, pla...</td>\n",
              "      <td>[3, 1, 4, 0, 7, 7, 4, 7, 12, 12, 12, 8, 14, 12...</td>\n",
              "      <td>[nmod, case, nsubj, root, det, nummod, obj, ac...</td>\n",
              "      <td>[8, 5, 1, 6, 3, 13, 1, 6, 2, 3, 10, 1, 2, 13, ...</td>\n",
              "    </tr>\n",
              "    <tr>\n",
              "      <th>1779</th>\n",
              "      <td>[1, 2, 3, 4, 5, 6, 7, 8, 9, 10, 11, 12, 13, 14...</td>\n",
              "      <td>[Two, plays, not, included, in, the, First, Fo...</td>\n",
              "      <td>[2, 23, 4, 2, 8, 8, 8, 4, 2, 13, 13, 13, 2, 15...</td>\n",
              "      <td>[nummod, nsubj:pass, advmod, acl, case, det, a...</td>\n",
              "      <td>[13, 1, 5, 6, 2, 3, 10, 1, 7, 3, 13, 10, 1, 9,...</td>\n",
              "    </tr>\n",
              "    <tr>\n",
              "      <th>1780</th>\n",
              "      <td>[1, 2, 3, 4, 5, 6, 7, 8, 9, 10]</td>\n",
              "      <td>[No, Shakespearean, poems, were, included, in,...</td>\n",
              "      <td>[3, 3, 5, 5, 0, 9, 9, 9, 5, 5]</td>\n",
              "      <td>[det, amod, nsubj:pass, aux:pass, root, case, ...</td>\n",
              "      <td>[3, 10, 1, 4, 6, 2, 3, 10, 1, 7]</td>\n",
              "    </tr>\n",
              "  </tbody>\n",
              "</table>\n",
              "<p>1781 rows × 5 columns</p>\n",
              "</div>\n",
              "      <button class=\"colab-df-convert\" onclick=\"convertToInteractive('df-64483fa2-6520-4af4-8de4-d92fa47b07d8')\"\n",
              "              title=\"Convert this dataframe to an interactive table.\"\n",
              "              style=\"display:none;\">\n",
              "        \n",
              "  <svg xmlns=\"http://www.w3.org/2000/svg\" height=\"24px\"viewBox=\"0 0 24 24\"\n",
              "       width=\"24px\">\n",
              "    <path d=\"M0 0h24v24H0V0z\" fill=\"none\"/>\n",
              "    <path d=\"M18.56 5.44l.94 2.06.94-2.06 2.06-.94-2.06-.94-.94-2.06-.94 2.06-2.06.94zm-11 1L8.5 8.5l.94-2.06 2.06-.94-2.06-.94L8.5 2.5l-.94 2.06-2.06.94zm10 10l.94 2.06.94-2.06 2.06-.94-2.06-.94-.94-2.06-.94 2.06-2.06.94z\"/><path d=\"M17.41 7.96l-1.37-1.37c-.4-.4-.92-.59-1.43-.59-.52 0-1.04.2-1.43.59L10.3 9.45l-7.72 7.72c-.78.78-.78 2.05 0 2.83L4 21.41c.39.39.9.59 1.41.59.51 0 1.02-.2 1.41-.59l7.78-7.78 2.81-2.81c.8-.78.8-2.07 0-2.86zM5.41 20L4 18.59l7.72-7.72 1.47 1.35L5.41 20z\"/>\n",
              "  </svg>\n",
              "      </button>\n",
              "      \n",
              "  <style>\n",
              "    .colab-df-container {\n",
              "      display:flex;\n",
              "      flex-wrap:wrap;\n",
              "      gap: 12px;\n",
              "    }\n",
              "\n",
              "    .colab-df-convert {\n",
              "      background-color: #E8F0FE;\n",
              "      border: none;\n",
              "      border-radius: 50%;\n",
              "      cursor: pointer;\n",
              "      display: none;\n",
              "      fill: #1967D2;\n",
              "      height: 32px;\n",
              "      padding: 0 0 0 0;\n",
              "      width: 32px;\n",
              "    }\n",
              "\n",
              "    .colab-df-convert:hover {\n",
              "      background-color: #E2EBFA;\n",
              "      box-shadow: 0px 1px 2px rgba(60, 64, 67, 0.3), 0px 1px 3px 1px rgba(60, 64, 67, 0.15);\n",
              "      fill: #174EA6;\n",
              "    }\n",
              "\n",
              "    [theme=dark] .colab-df-convert {\n",
              "      background-color: #3B4455;\n",
              "      fill: #D2E3FC;\n",
              "    }\n",
              "\n",
              "    [theme=dark] .colab-df-convert:hover {\n",
              "      background-color: #434B5C;\n",
              "      box-shadow: 0px 1px 3px 1px rgba(0, 0, 0, 0.15);\n",
              "      filter: drop-shadow(0px 1px 2px rgba(0, 0, 0, 0.3));\n",
              "      fill: #FFFFFF;\n",
              "    }\n",
              "  </style>\n",
              "\n",
              "      <script>\n",
              "        const buttonEl =\n",
              "          document.querySelector('#df-64483fa2-6520-4af4-8de4-d92fa47b07d8 button.colab-df-convert');\n",
              "        buttonEl.style.display =\n",
              "          google.colab.kernel.accessAllowed ? 'block' : 'none';\n",
              "\n",
              "        async function convertToInteractive(key) {\n",
              "          const element = document.querySelector('#df-64483fa2-6520-4af4-8de4-d92fa47b07d8');\n",
              "          const dataTable =\n",
              "            await google.colab.kernel.invokeFunction('convertToInteractive',\n",
              "                                                     [key], {});\n",
              "          if (!dataTable) return;\n",
              "\n",
              "          const docLinkHtml = 'Like what you see? Visit the ' +\n",
              "            '<a target=\"_blank\" href=https://colab.research.google.com/notebooks/data_table.ipynb>data table notebook</a>'\n",
              "            + ' to learn more about interactive tables.';\n",
              "          element.innerHTML = '';\n",
              "          dataTable['output_type'] = 'display_data';\n",
              "          await google.colab.output.renderOutput(dataTable, element);\n",
              "          const docLink = document.createElement('div');\n",
              "          docLink.innerHTML = docLinkHtml;\n",
              "          element.appendChild(docLink);\n",
              "        }\n",
              "      </script>\n",
              "    </div>\n",
              "  </div>\n",
              "  "
            ]
          },
          "metadata": {},
          "execution_count": 5
        }
      ],
      "source": [
        "train_df = conlluToDatasetForDependency(en_train,en_upo2number)\n",
        "train_df"
      ]
    },
    {
      "cell_type": "code",
      "source": [
        "(x_data,action_data) = transformByOracle(train_df,2,3)\n",
        "\n",
        "# function to save the numpy array as a file and re-use it avoiding preprocessing steps\n",
        "np.save('x_data.npy', x_data) # It will be save in your current directory (seted in \"os.chdir(\"/content/drive/MyDrive/MASTER\")\")\n",
        "np.save('action_data.npy', action_data)\n",
        "\n",
        "\n",
        "# With the following you can read the file and create the numpy array again\n",
        "new_x_data = np.load('x_data.npy',allow_pickle=True)\n",
        "new_action_data = np.load('action_data.npy',allow_pickle=True)"
      ],
      "metadata": {
        "id": "LRP4ZTcvC_VM"
      },
      "execution_count": 6,
      "outputs": []
    },
    {
      "cell_type": "code",
      "source": [
        "action_data[1:10]"
      ],
      "metadata": {
        "colab": {
          "base_uri": "https://localhost:8080/"
        },
        "id": "vygXFJpeNJ7C",
        "outputId": "ce5f2848-a0c5-429b-8b91-1757f6256f57"
      },
      "execution_count": 30,
      "outputs": [
        {
          "output_type": "execute_result",
          "data": {
            "text/plain": [
              "array([['Shift', 'None'],\n",
              "       ['Shift', 'None'],\n",
              "       ['Left Arc', 'det'],\n",
              "       ['Left Arc', 'case'],\n",
              "       ['Right Arc', 'nmod'],\n",
              "       ['Shift', 'None'],\n",
              "       ['Shift', 'None'],\n",
              "       ['Left Arc', 'advmod'],\n",
              "       ['Left Arc', 'aux']], dtype='<U32')"
            ]
          },
          "metadata": {},
          "execution_count": 30
        }
      ]
    }
  ],
  "metadata": {
    "colab": {
      "provenance": [],
      "authorship_tag": "ABX9TyP9Bj0bUwdy8Z6OPsri+s/Q",
      "include_colab_link": true
    },
    "kernelspec": {
      "display_name": "Python 3",
      "name": "python3"
    },
    "language_info": {
      "name": "python"
    }
  },
  "nbformat": 4,
  "nbformat_minor": 0
}